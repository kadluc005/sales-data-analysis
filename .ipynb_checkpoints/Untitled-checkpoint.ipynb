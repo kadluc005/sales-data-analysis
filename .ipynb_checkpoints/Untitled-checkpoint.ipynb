{
 "cells": [
  {
   "cell_type": "markdown",
   "id": "d59b10cc",
   "metadata": {},
   "source": [
    "# Découverte des données"
   ]
  },
  {
   "cell_type": "code",
   "execution_count": 7,
   "id": "ce334a6a",
   "metadata": {},
   "outputs": [],
   "source": [
    "# importer les packages\n",
    "import os\n",
    "import pandas as pd\n",
    "import matplotlib.pyplot as plt\n",
    "import seaborn as sns\n"
   ]
  },
  {
   "cell_type": "code",
   "execution_count": 12,
   "id": "da20474c",
   "metadata": {},
   "outputs": [
    {
     "name": "stdout",
     "output_type": "stream",
     "text": [
      "Sales_April_2019.csv\n",
      "Sales_August_2019.csv\n",
      "Sales_December_2019.csv\n",
      "Sales_February_2019.csv\n",
      "Sales_January_2019.csv\n",
      "Sales_July_2019.csv\n",
      "Sales_June_2019.csv\n",
      "Sales_March_2019.csv\n",
      "Sales_May_2019.csv\n",
      "Sales_November_2019.csv\n",
      "Sales_October_2019.csv\n",
      "Sales_September_2019.csv\n"
     ]
    }
   ],
   "source": [
    "# Collecter les noms des fichiers\n",
    "files = [file for file in os.listdir(r'C:\\Users\\HP\\Desktop\\data_analysis\\data')]\n",
    "for file in files:\n",
    "    print(file)"
   ]
  },
  {
   "cell_type": "code",
   "execution_count": 19,
   "id": "73c264b0",
   "metadata": {},
   "outputs": [
    {
     "name": "stdout",
     "output_type": "stream",
     "text": [
      "      Order ID                     Product Quantity Ordered Price Each  \\\n",
      "0       176558        USB-C Charging Cable                2      11.95   \n",
      "1          NaN                         NaN              NaN        NaN   \n",
      "2       176559  Bose SoundSport Headphones                1      99.99   \n",
      "3       176560                Google Phone                1        600   \n",
      "4       176560            Wired Headphones                1      11.99   \n",
      "...        ...                         ...              ...        ...   \n",
      "11681   259353      AAA Batteries (4-pack)                3       2.99   \n",
      "11682   259354                      iPhone                1        700   \n",
      "11683   259355                      iPhone                1        700   \n",
      "11684   259356      34in Ultrawide Monitor                1     379.99   \n",
      "11685   259357        USB-C Charging Cable                1      11.95   \n",
      "\n",
      "           Order Date                         Purchase Address  \n",
      "0      04/19/19 08:46             917 1st St, Dallas, TX 75001  \n",
      "1                 NaN                                      NaN  \n",
      "2      04/07/19 22:30        682 Chestnut St, Boston, MA 02215  \n",
      "3      04/12/19 14:38     669 Spruce St, Los Angeles, CA 90001  \n",
      "4      04/12/19 14:38     669 Spruce St, Los Angeles, CA 90001  \n",
      "...               ...                                      ...  \n",
      "11681  09/17/19 20:56   840 Highland St, Los Angeles, CA 90001  \n",
      "11682  09/01/19 16:00  216 Dogwood St, San Francisco, CA 94016  \n",
      "11683  09/23/19 07:39     220 12th St, San Francisco, CA 94016  \n",
      "11684  09/19/19 17:30   511 Forest St, San Francisco, CA 94016  \n",
      "11685  09/30/19 00:18   250 Meadow St, San Francisco, CA 94016  \n",
      "\n",
      "[186850 rows x 6 columns]\n"
     ]
    }
   ],
   "source": [
    "path = r'C:\\Users\\HP\\Desktop\\data_analysis\\data'\n",
    "all_data = pd.DataFrame()\n",
    "for file in files:\n",
    "    current_data = pd.read_csv(path+'\\\\'+file)\n",
    "    all_data = pd.concat([all_data, current_data])\n",
    "print(all_data)"
   ]
  },
  {
   "cell_type": "code",
   "execution_count": 20,
   "id": "c36c083d",
   "metadata": {},
   "outputs": [],
   "source": [
    "all_data.to_csv(path+'\\\\all_data.csv', index=False)"
   ]
  },
  {
   "cell_type": "code",
   "execution_count": 25,
   "id": "09c2fb0e",
   "metadata": {},
   "outputs": [
    {
     "data": {
      "text/plain": [
       "(186850, 6)"
      ]
     },
     "execution_count": 25,
     "metadata": {},
     "output_type": "execute_result"
    }
   ],
   "source": [
    "all_data.head()\n",
    "all_data.shape"
   ]
  },
  {
   "cell_type": "code",
   "execution_count": 24,
   "id": "8c37b6cf",
   "metadata": {},
   "outputs": [
    {
     "data": {
      "text/plain": [
       "Order ID            545\n",
       "Product             545\n",
       "Quantity Ordered    545\n",
       "Price Each          545\n",
       "Order Date          545\n",
       "Purchase Address    545\n",
       "dtype: int64"
      ]
     },
     "execution_count": 24,
     "metadata": {},
     "output_type": "execute_result"
    }
   ],
   "source": [
    "all_data.isnull().sum()"
   ]
  },
  {
   "cell_type": "code",
   "execution_count": 29,
   "id": "0563a554",
   "metadata": {},
   "outputs": [
    {
     "data": {
      "text/plain": [
       "(186305, 6)"
      ]
     },
     "execution_count": 29,
     "metadata": {},
     "output_type": "execute_result"
    }
   ],
   "source": [
    "all_data = all_data.dropna(how='all')\n",
    "all_data.shape"
   ]
  },
  {
   "cell_type": "code",
   "execution_count": null,
   "id": "0be6137a",
   "metadata": {},
   "outputs": [],
   "source": []
  }
 ],
 "metadata": {
  "kernelspec": {
   "display_name": "Python 3 (ipykernel)",
   "language": "python",
   "name": "python3"
  },
  "language_info": {
   "codemirror_mode": {
    "name": "ipython",
    "version": 3
   },
   "file_extension": ".py",
   "mimetype": "text/x-python",
   "name": "python",
   "nbconvert_exporter": "python",
   "pygments_lexer": "ipython3",
   "version": "3.11.5"
  }
 },
 "nbformat": 4,
 "nbformat_minor": 5
}
